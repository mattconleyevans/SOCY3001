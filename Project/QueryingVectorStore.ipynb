{
 "cells": [
  {
   "cell_type": "code",
   "execution_count": 19,
   "id": "091c17cd",
   "metadata": {},
   "outputs": [],
   "source": [
    "import openai\n",
    "import clip\n",
    "import faiss\n",
    "import torch\n",
    "import numpy as np"
   ]
  },
  {
   "cell_type": "code",
   "execution_count": 24,
   "id": "e51cb9ed",
   "metadata": {},
   "outputs": [],
   "source": [
    "def get_text_embedding(text):\n",
    "    response = openai.embeddings.create(input=text, model=\"text-embedding-3-small\")\n",
    "    return response.data[0].embedding\n",
    "\n",
    "def get_image_embedding(text):\n",
    "    device = \"cuda\" if torch.cuda.is_available() else \"cpu\"\n",
    "    model, _ = clip.load(\"ViT-B/32\", device=device)\n",
    "    text_preprocessed = clip.tokenize([text]).to(device)\n",
    "    with torch.no_grad():\n",
    "        text_features = model.encode_text(text_preprocessed)\n",
    "    return text_features.cpu().numpy().tolist()[0]"
   ]
  },
  {
   "cell_type": "code",
   "execution_count": 4,
   "id": "00df92e7",
   "metadata": {},
   "outputs": [],
   "source": [
    "# Function to retrieve most relevant documents from a FAISS index\n",
    "def retrieve_relevant_documents(query_embedding, index, top_k=5):\n",
    "    query_embedding = np.array([query_embedding], dtype=np.float32)\n",
    "    distances, indices = index.search(query_embedding, top_k)\n",
    "    return indices[0]"
   ]
  },
  {
   "cell_type": "code",
   "execution_count": 6,
   "id": "b99a6ebb",
   "metadata": {},
   "outputs": [],
   "source": [
    "text_index = faiss.read_index(\"textArchive.index\")\n",
    "image_index = faiss.read_index(\"imageArchive.index\")"
   ]
  },
  {
   "cell_type": "code",
   "execution_count": 27,
   "id": "fa032e6e",
   "metadata": {},
   "outputs": [],
   "source": [
    "def queryOpenAI(query_text, image_index, text_index):\n",
    "    query_text_embedding = get_text_embedding(query_text)\n",
    "    query_clip_embedding = get_image_embedding(query_text)\n",
    "    \n",
    "    # Retrieve relevant texts and images\n",
    "    text_indices = retrieve_relevant_documents(query_text_embedding, text_index)\n",
    "    image_indices = retrieve_relevant_documents(query_clip_embedding, image_index)\n",
    "\n",
    "    # Assuming you have text_documents and image_documents in lists or arrays\n",
    "    relevant_texts = [text_documents[i] for i in text_indices]\n",
    "    relevant_images = [image_documents[i] for i in image_indices]\n",
    "\n",
    "    # Combine retrieved documents for context\n",
    "    context = relevant_images + relevant_texts\n",
    "    \n",
    "    response = client.chat.completions.create(\n",
    "            model = \"gpt-4o-mini\",\n",
    "            messages=[{\n",
    "                \"role\": \"user\",\n",
    "                \"content\": [\n",
    "                    prompt\n",
    "                ],\n",
    "            }\n",
    "            ]\n",
    "        )\n",
    "    \n",
    "    return response"
   ]
  },
  {
   "cell_type": "code",
   "execution_count": 28,
   "id": "b17d2d47",
   "metadata": {},
   "outputs": [
    {
     "ename": "NameError",
     "evalue": "name 'text_documents' is not defined",
     "output_type": "error",
     "traceback": [
      "\u001b[0;31m---------------------------------------------------------------------------\u001b[0m",
      "\u001b[0;31mNameError\u001b[0m                                 Traceback (most recent call last)",
      "Cell \u001b[0;32mIn[28], line 2\u001b[0m\n\u001b[1;32m      1\u001b[0m query \u001b[38;5;241m=\u001b[39m \u001b[38;5;124m\"\u001b[39m\u001b[38;5;124mTell me about the ecosystem of the park\u001b[39m\u001b[38;5;124m\"\u001b[39m\n\u001b[0;32m----> 2\u001b[0m queryOpenAI(query, image_index, text_index)\n",
      "Cell \u001b[0;32mIn[27], line 10\u001b[0m, in \u001b[0;36mqueryOpenAI\u001b[0;34m(query_text, image_index, text_index)\u001b[0m\n\u001b[1;32m      7\u001b[0m image_indices \u001b[38;5;241m=\u001b[39m retrieve_relevant_documents(query_clip_embedding, image_index)\n\u001b[1;32m      9\u001b[0m \u001b[38;5;66;03m# Assuming you have text_documents and image_documents in lists or arrays\u001b[39;00m\n\u001b[0;32m---> 10\u001b[0m relevant_texts \u001b[38;5;241m=\u001b[39m [text_documents[i] \u001b[38;5;28;01mfor\u001b[39;00m i \u001b[38;5;129;01min\u001b[39;00m text_indices]\n\u001b[1;32m     11\u001b[0m relevant_images \u001b[38;5;241m=\u001b[39m [image_documents[i] \u001b[38;5;28;01mfor\u001b[39;00m i \u001b[38;5;129;01min\u001b[39;00m image_indices]\n\u001b[1;32m     13\u001b[0m \u001b[38;5;66;03m# Combine retrieved documents for context\u001b[39;00m\n",
      "Cell \u001b[0;32mIn[27], line 10\u001b[0m, in \u001b[0;36m<listcomp>\u001b[0;34m(.0)\u001b[0m\n\u001b[1;32m      7\u001b[0m image_indices \u001b[38;5;241m=\u001b[39m retrieve_relevant_documents(query_clip_embedding, image_index)\n\u001b[1;32m      9\u001b[0m \u001b[38;5;66;03m# Assuming you have text_documents and image_documents in lists or arrays\u001b[39;00m\n\u001b[0;32m---> 10\u001b[0m relevant_texts \u001b[38;5;241m=\u001b[39m [text_documents[i] \u001b[38;5;28;01mfor\u001b[39;00m i \u001b[38;5;129;01min\u001b[39;00m text_indices]\n\u001b[1;32m     11\u001b[0m relevant_images \u001b[38;5;241m=\u001b[39m [image_documents[i] \u001b[38;5;28;01mfor\u001b[39;00m i \u001b[38;5;129;01min\u001b[39;00m image_indices]\n\u001b[1;32m     13\u001b[0m \u001b[38;5;66;03m# Combine retrieved documents for context\u001b[39;00m\n",
      "\u001b[0;31mNameError\u001b[0m: name 'text_documents' is not defined"
     ]
    }
   ],
   "source": [
    "query = \"Tell me about the ecosystem of the park\"\n",
    "queryOpenAI(query, image_index, text_index)"
   ]
  }
 ],
 "metadata": {
  "kernelspec": {
   "display_name": "Python 3 (ipykernel)",
   "language": "python",
   "name": "python3"
  },
  "language_info": {
   "codemirror_mode": {
    "name": "ipython",
    "version": 3
   },
   "file_extension": ".py",
   "mimetype": "text/x-python",
   "name": "python",
   "nbconvert_exporter": "python",
   "pygments_lexer": "ipython3",
   "version": "3.11.5"
  }
 },
 "nbformat": 4,
 "nbformat_minor": 5
}
